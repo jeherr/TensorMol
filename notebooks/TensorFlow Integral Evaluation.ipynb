{
 "cells": [
  {
   "cell_type": "code",
   "execution_count": 1,
   "metadata": {
    "collapsed": true
   },
   "outputs": [],
   "source": [
    "# read in the targets. \n",
    "import sys,os\n",
    "%matplotlib inline  \n",
    "import matplotlib\n",
    "import numpy as np\n",
    "import random \n",
    "import matplotlib.pyplot as plt\n",
    "import tensorflow as tf"
   ]
  },
  {
   "cell_type": "code",
   "execution_count": 37,
   "metadata": {
    "collapsed": true
   },
   "outputs": [],
   "source": [
    "# Follows pople JCP 89 5777\n",
    "def F0(t): \n",
    "    t2 = tf.sqrt(t)+1e-15\n",
    "    return 1.772453850905516*tf.erf(t2)/(2.*t2)\n",
    "def KAB(z1,z2,R1,R2):\n",
    "    \"\"\"\n",
    "    Gaussian Product Rule. \n",
    "    \"\"\"\n",
    "    r1mr2=R1-R2\n",
    "    return 1.414213562373095*(4.182513398379599/(z1+z2))*tf.exp(-(z1*z2)/(z1+z2)*tf.reduce_sum(r1mr2*r1mr2))\n",
    "def SSSS(A,B,C,D,a1,a2,a3,a4): \n",
    "    zeta = a1+a2\n",
    "    P = (a1*A+a2*B)/zeta\n",
    "    eta = a3+a4\n",
    "    Q = (a3*C+a4*D)/eta\n",
    "    PmQ = P-Q\n",
    "    AmB = A-B\n",
    "    CmD = C-D\n",
    "    T = zeta*eta/(zeta + eta)*tf.reduce_sum(PmQ*PmQ)\n",
    "    #W = (zeta*P+eta*Q)/(zeta+eta)\n",
    "    return KAB(a1,a2,A,B)*KAB(a3,a4,C,D)*F0(T)/tf.sqrt(zeta+eta)"
   ]
  },
  {
   "cell_type": "code",
   "execution_count": 43,
   "metadata": {
    "collapsed": false
   },
   "outputs": [],
   "source": [
    "def ssss(R): \n",
    "    A = tf.Variable([0.,0.,0.], dtype = tf.float64)\n",
    "    B = tf.Variable([0.,0.,0.], dtype = tf.float64)\n",
    "    C = tf.Variable([R,0.,0.], dtype = tf.float64)\n",
    "    D = tf.Variable([R,0.,0.], dtype = tf.float64)\n",
    "    a1 = tf.Variable(1.0, dtype = tf.float64)\n",
    "    a2 = tf.Variable(1.0, dtype = tf.float64)\n",
    "    a3 = tf.Variable(1.0, dtype = tf.float64)\n",
    "    a4 = tf.Variable(1.0, dtype = tf.float64)\n",
    "    config = tf.ConfigProto(inter_op_parallelism_threads=0, intra_op_parallelism_threads=0)\n",
    "    with tf.Session(config=config) as sess :\n",
    "        sess.run(tf.global_variables_initializer())\n",
    "        #sess.run([SSSS(A,B,C,D,a1,a2,a3,a4)])\n",
    "        return sess.run([tf.gradients(SSSS(A,B,C,D,a1,a2,a3,a4),A)])"
   ]
  },
  {
   "cell_type": "code",
   "execution_count": 44,
   "metadata": {
    "collapsed": false
   },
   "outputs": [
    {
     "data": {
      "text/plain": [
       "[[array([ 0.82862975, -0.        , -0.        ])]]"
      ]
     },
     "execution_count": 44,
     "metadata": {},
     "output_type": "execute_result"
    }
   ],
   "source": [
    "ssss(1.0)"
   ]
  },
  {
   "cell_type": "code",
   "execution_count": 42,
   "metadata": {
    "collapsed": false
   },
   "outputs": [
    {
     "data": {
      "text/plain": [
       "<matplotlib.legend.Legend at 0x121e3b350>"
      ]
     },
     "execution_count": 42,
     "metadata": {},
     "output_type": "execute_result"
    },
    {
     "data": {
      "image/png": "[encoded data removed]",
      "text/plain": [
       "<matplotlib.figure.Figure at 0x12125b810>"
      ]
     },
     "metadata": {},
     "output_type": "display_data"
    }
   ],
   "source": [
    "plt.plot([ssss(r) for r in np.linspace(0.1,50.0,10)],label=\"ssss\")\n",
    "plt.plot([1.0/(r) for r in np.linspace(0.1,50.0,10)],label=\"1/r\")\n",
    "plt.legend()"
   ]
  },
  {
   "cell_type": "code",
   "execution_count": null,
   "metadata": {
    "collapsed": true
   },
   "outputs": [],
   "source": []
  }
 ],
 "metadata": {
  "kernelspec": {
   "display_name": "Python 2",
   "language": "python",
   "name": "python2"
  },
  "language_info": {
   "codemirror_mode": {
    "name": "ipython",
    "version": 2
   },
   "file_extension": ".py",
   "mimetype": "text/x-python",
   "name": "python",
   "nbconvert_exporter": "python",
   "pygments_lexer": "ipython2",
   "version": "2.7.10"
  }
 },
 "nbformat": 4,
 "nbformat_minor": 2
}
