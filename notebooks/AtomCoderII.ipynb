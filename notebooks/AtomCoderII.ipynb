{
 "cells": [
  {
   "cell_type": "code",
   "execution_count": 2,
   "metadata": {
    "collapsed": true,
    "deletable": true,
    "editable": true
   },
   "outputs": [],
   "source": [
    "import tensorflow as tf\n",
    "import numpy as np"
   ]
  },
  {
   "cell_type": "code",
   "execution_count": 3,
   "metadata": {
    "collapsed": false,
    "deletable": true,
    "editable": true
   },
   "outputs": [
    {
     "data": {
      "text/plain": [
       "'1.6.0'"
      ]
     },
     "execution_count": 3,
     "metadata": {},
     "output_type": "execute_result"
    }
   ],
   "source": [
    "tf.__version__"
   ]
  },
  {
   "cell_type": "code",
   "execution_count": 7,
   "metadata": {
    "collapsed": false,
    "deletable": true,
    "editable": true
   },
   "outputs": [],
   "source": [
    "MAX_ATOMIC_NUMBER = 55 # Only up to cesium is treated. \n",
    "AtomFields =['symbol','name','atomicnum','mass','ns','np','nd','elecneg','radius','ione','elecaff','polariz']\n",
    "AtomData = [['H','Hydrogen', 1.0, 1.00794, 1.0, 0.0, 0.0, 2.3, 53.0, 1312.0, 0.754195, 4.4923955],\n",
    "['He','Helium', 2.0, 4.002602, 2.0, 0.0, 0.0, 4.16, 31.0, 2372.0, -0.52, 1.383191],\n",
    "['Li','Lithium', 3.0, 6.941, 1.0, 0.0, 0.0, 0.912, 167.0, 520.0, 0.618049, 164.0],\n",
    "['Be','Beryllium', 4.0, 9.012182, 2.0, 0.0, 0.0, 1.576, 112.0, 900.0, -0.52, 37.71],\n",
    "['B','Boron', 5.0, 10.811, 2.0, 1.0, 0.0, 2.051, 87.0, 801.0, 0.279723, 20.53],\n",
    "['C','Carbon', 6.0, 12.0107, 2.0, 2.0, 0.0, 2.544, 67.0, 1087.0, 1.2621226, 11.26],\n",
    "['N','Nitrogen', 7.0, 14.0067, 2.0, 3.0, 0.0, 3.066, 56.0, 1402.0, -0.000725, 7.26],\n",
    "['O','Oxygen', 8.0, 15.9994, 2.0, 4.0, 0.0, 3.61, 48.0, 1314.0, 1.4611136, 5.24],\n",
    "['F','Fluorine', 9.0, 18.9984032, 2.0, 5.0, 0.0, 4.193, 42.0, 1681.0, 3.4011898, 3.7],\n",
    "['Ne','Neon', 10.0, 20.1797, 2.0, 6.0, 0.0, 4.787, 38.0, 2081.0, -1.2, 2.67],\n",
    "['Na','Sodium', 11.0, 22.98976928, 1.0, 0.0, 0.0, 0.869, 190.0, 496.0, 0.547926, 162.7],\n",
    "['Mg','Magnesium', 12.0, 24.305, 2.0, 0.0, 0.0, 1.293, 145.0, 738.0, -0.415, 70.89],\n",
    "['Al','Aluminum', 13.0, 26.9815386, 2.0, 1.0, 0.0, 1.613, 118.0, 578.0, 0.43283, 55.4],\n",
    "['Si','Silicon', 14.0, 28.0855, 2.0, 2.0, 0.0, 1.916, 111.0, 787.0, 1.3895212, 37.31],\n",
    "['P','Phosphorus', 15.0, 30.973762, 2.0, 3.0, 0.0, 2.253, 98.0, 1012.0, 0.746607, 24.93],\n",
    "['S','Sulfur', 16.0, 32.065, 2.0, 4.0, 0.0, 2.589, 88.0, 1000.0, 2.0771042, 19.37],\n",
    "['Cl','Chlorine', 17.0, 35.453, 2.0, 5.0, 0.0, 2.869, 79.0, 1251.0, 3.612724, 14.57],\n",
    "['Ar','Argon', 18.0, 39.948, 2.0, 6.0, 0.0, 3.242, 71.0, 1521.0, -1.0, 11.07],\n",
    "['K','Potassium', 19.0, 39.0983, 1.0, 0.0, 0.0, 0.734, 243.0, 419.0, 0.501459, 290.6],\n",
    "['Ca','Calcium', 20.0, 40.078, 2.0, 0.0, 0.0, 1.034, 194.0, 590.0, 0.02455, 155.9],\n",
    "['Sc','Scandium', 21.0, 44.955912, 2.0, 0.0, 1.0, 1.19, 184.0, 633.0, 0.188, 142.28],\n",
    "['Ti','Titanium', 22.0, 47.867, 2.0, 0.0, 2.0, 1.38, 176.0, 659.0, 0.084, 114.34],\n",
    "['V','Vanadium', 23.0, 50.9415, 2.0, 0.0, 3.0, 1.53, 171.0, 651.0, 0.52766, 97.34],\n",
    "['Cr','Chromium', 24.0, 51.9961, 1.0, 0.0, 5.0, 1.65, 166.0, 653.0, 0.67584, 78.4],\n",
    "['Mn','Manganese', 25.0, 54.938045, 2.0, 0.0, 6.0, 1.75, 161.0, 717.0, -0.52, 66.8],\n",
    "['Fe','Iron', 26.0, 55.845, 2.0, 0.0, 7.0, 1.8, 156.0, 763.0, 0.153236, 62.65],\n",
    "['Co','Cobalt', 27.0, 58.933195, 2.0, 0.0, 8.0, 1.84, 152.0, 760.0, 0.66226, 57.71],\n",
    "['Ni','Nickel', 28.0, 58.6934, 2.0, 0.0, 8.0, 1.88, 149.0, 737.0, 1.15716, 51.1],\n",
    "['Cu','Copper', 29.0, 63.546, 1.0, 0.0, 10.0, 1.85, 145.0, 746.0, 1.2357, 40.7],\n",
    "['Zn','Zinc', 30.0, 65.38, 2.0, 0.0, 10.0, 1.59, 142.0, 906.0, -0.62, 38.8],\n",
    "['Ga','Gallium', 31.0, 69.723, 2.0, 1.0, 10.0, 1.756, 136.0, 579.0, 0.43, 51.4],\n",
    "['Ge','Germanium', 32.0, 72.64, 2.0, 2.0, 10.0, 1.994, 125.0, 762.0, 1.23676, 39.43],\n",
    "['As','Arsenic', 33.0, 74.9216, 2.0, 3.0, 10.0, 2.211, 114.0, 947.0, 0.8048, 29.8],\n",
    "['Se','Selenium', 34.0, 78.96, 2.0, 4.0, 10.0, 2.424, 103.0, 941.0, 2.02, 26.24],\n",
    "['Br','Bromine', 35.0, 79.904, 2.0, 5.0, 10.0, 2.685, 94.0, 1140.0, 3.363588, 21.03],\n",
    "['Kr','Krypton', 36.0, 83.798, 2.0, 6.0, 10.0, 2.966, 88.0, 1351.0, -0.62, 17.075],\n",
    "['Rb','Rubidium', 37.0, 85.4678, 1.0, 0.0, 0.0, 0.706, 265.0, 403.0, 0.485916, 318.8],\n",
    "['Sr','Strontium', 38.0, 87.62, 2.0, 0.0, 0.0, 0.963, 219.0, 550.0, 0.05206, 186.0],\n",
    "['Y','Yttrium', 39.0, 88.90585, 2.0, 0.0, 1.0, 1.12, 212.0, 600.0, 0.307, 153.0],\n",
    "['Zr','Zirconium', 40.0, 91.224, 2.0, 0.0, 2.0, 1.32, 206.0, 640.0, 0.433, 121.0],\n",
    "['Nb','Niobium', 41.0, 92.90638, 1.0, 0.0, 4.0, 1.41, 198.0, 652.0, 0.9174, 106.0],\n",
    "['Mo','Molybdenum', 42.0, 95.96, 1.0, 0.0, 5.0, 1.47, 190.0, 684.0, 0.7473, 72.5],\n",
    "['Tc','Technetium', 43.0, 98.0, 2.0, 0.0, 5.0, 1.51, 183.0, 702.0, 0.55, 80.4],\n",
    "['Ru','Ruthenium', 44.0, 101.07, 1.0, 0.0, 7.0, 1.54, 178.0, 710.0, 1.04638, 65.0],\n",
    "['Rh','Rhodium', 45.0, 102.9055, 1.0, 0.0, 8.0, 1.56, 173.0, 720.0, 1.14289, 58.0],\n",
    "['Pd','Palladium', 46.0, 106.42, 0.0, 0.0, 10.0, 1.58, 169.0, 804.0, 0.56214, 32.0],\n",
    "['Ag','Silver', 47.0, 107.8682, 1.0, 0.0, 10.0, 1.87, 165.0, 731.0, 1.30447, 52.5],\n",
    "['Cd','Cadmium', 48.0, 112.411, 2.0, 0.0, 10.0, 1.52, 161.0, 868.0, -0.725, 46.9],\n",
    "['In','Indium', 49.0, 114.818, 2.0, 1.0, 10.0, 1.656, 156.0, 558.0, 0.3, 68.7],\n",
    "['Sn','Tin', 50.0, 118.71, 2.0, 2.0, 10.0, 1.824, 145.0, 709.0, 1.11207, 42.4],\n",
    "['Sb','Antimony', 51.0, 121.76, 2.0, 3.0, 10.0, 1.984, 133.0, 834.0, 1.047401, 42.55],\n",
    "['Te','Tellurium', 52.0, 127.6, 2.0, 4.0, 10.0, 2.158, 123.0, 869.0, 1.97087, 37.0],\n",
    "['I','Iodine', 53.0, 126.90447, 2.0, 5.0, 10.0, 2.359, 115.0, 1008.0, 3.0590465, 34.6],\n",
    "['Xe','Xenon', 54.0, 131.293, 2.0, 6.0, 10.0, 2.582, 108.0, 1170.0, -0.83, 27.815],\n",
    "['Cs','Cesium', 55.0, 132.9054519, 1.0, 0.0, 0.0, 0.659, 298.0, 376.0, 0.47163, 401.0]]\n",
    "\n",
    "def SavedOnInterrupt(f): \n",
    "\tdef wrapper(*args,**kwargs):\n",
    "\t\ttry:\n",
    "\t\t\treturn f(*args,**kwargs)\n",
    "\t\texcept: \n",
    "\t\t\tprint \"Saving\"\n",
    "\t\t\targs[0].Save()\n",
    "\treturn wrapper\n",
    "\n",
    "class VariationalAutoencoder(object):\n",
    "\tdef __init__(self): \n",
    "\t\treturn \n",
    "\t@staticmethod\n",
    "\tdef sampleGaussian(self, mu, log_sigma):\n",
    "\t\t\"\"\"(Differentiably!) draw sample from Gaussian with given shape, subject to random noise epsilon\"\"\"\n",
    "\t\twith tf.name_scope(\"sample_gaussian\"):\n",
    "\t\t\t# reparameterization trick\n",
    "\t\t\tepsilon = tf.random_normal(tf.shape(log_sigma), name=\"epsilon\")\n",
    "\t\t\treturn mu + epsilon * tf.exp(log_sigma) # N(mu, I * sigma**2)    \n",
    "\t@staticmethod\n",
    "\tdef crossEntropy(obs, actual, offset=1e-7):\n",
    "\t\t\"\"\"Binary cross-entropy, per training example\"\"\"\n",
    "\t\t# (tf.Tensor, tf.Tensor, float) -> tf.Tensor\n",
    "\t\twith tf.name_scope(\"cross_entropy\"):\n",
    "\t\t\t# bound by clipping to avoid nan\n",
    "\t\t\tobs_ = tf.clip_by_value(obs, offset, 1 - offset)\n",
    "\t\t\treturn -tf.reduce_sum(actual * tf.log(obs_) + (1 - actual) * tf.log(1 - obs_), 1)    \n",
    "\t@staticmethod\n",
    "\tdef l1_loss(obs, actual):\n",
    "\t\t\"\"\"L1 loss (a.k.a. LAD), per training example\"\"\"\n",
    "\t\t# (tf.Tensor, tf.Tensor, float) -> tf.Tensor\n",
    "\t\twith tf.name_scope(\"l1_loss\"):\n",
    "\t\t\treturn tf.reduce_sum(tf.abs(obs - actual) , 1)\n",
    "\t@staticmethod\n",
    "\tdef kullbackLeibler(mu, log_sigma):\n",
    "\t\t\"\"\"(Gaussian) Kullback-Leibler divergence KL(q||p), per training example\"\"\"\n",
    "\t\t# (tf.Tensor, tf.Tensor) -> tf.Tensor\n",
    "\t\twith tf.name_scope(\"KL_divergence\"):\n",
    "\t\t\t# = -0.5 * (1 + log(sigma**2) - mu**2 - sigma**2)\n",
    "\t\t\treturn -0.5 * tf.reduce_sum(1 + 2 * log_sigma - mu**2 -tf.exp(2 * log_sigma), 1)    \n",
    "\tdef composeVAE(encoded,decoded):\n",
    "\t\tglobal_step = tf.Variable(0, trainable=False)\n",
    "\t\twith tf.name_scope(\"Adam_optimizer\"):\n",
    "\t\t\toptimizer = tf.train.AdamOptimizer(self.learning_rate)\n",
    "\t\t\ttvars = tf.trainable_variables()\n",
    "\t\t\tgrads_and_vars = optimizer.compute_gradients(cost, tvars)\n",
    "\t\t\t#clipped = [(tf.clip_by_value(grad, -5, 5), tvar) # gradient clipping\n",
    "\t\t\t#for grad, tvar in grads_and_vars:\n",
    "\t\t\t#\ttrain_op = optimizer.apply_gradients(clipped, global_step=global_step, name=\"minimize_cost\")\n",
    "\t\treturn (global_step)\n",
    "        \n",
    "class GeometryCoder(VariationalAutoencoder):\n",
    "\t\"\"\"\n",
    "\tThis is an abstract base class for a \"Geometry coder\"\n",
    "\tan object which provides reduced dimensional representations of\n",
    "\tan atom or substructure. It can be asked to encode possibly\n",
    "\tmore than Z, perhaps charges.\n",
    "\t\"\"\"\n",
    "\tdef __init__(self,batch_size_=2000, MaxNAtom_=64, NOutChan_=4):\n",
    "\t\t\"\"\"\n",
    "\t\tArgs:\n",
    "\t\t\tNInChan_: Dimension of atom information which will be autoencoded, Ie: 1 for just atomic number.\n",
    "\t\t\tNOutChan_: The dimension of the type channel which will result for this atom.\n",
    "\t\t\"\"\"\n",
    "\t\tself.batch_size = batch_size_\n",
    "\t\tself.MaxNAtom = MaxNAtom_\n",
    "\t\tself.out_chan = NOutChan_\n",
    "\t\tself.learning_rate = 0.002\n",
    "\t\tself.sess = None\n",
    "\tdef train(self):\n",
    "\t\treturn\n",
    "\tdef decode(self):\n",
    "\t\t\"\"\"\n",
    "\t\t(VEC=>ZXYZ)\n",
    "\t\t\"\"\"\n",
    "\t\treturn\n",
    "\tdef encode(self):\n",
    "\t\t\"\"\"\n",
    "\t\tThis is the key operation provided\n",
    "\t\t\"\"\"\n",
    "\t\treturn\n",
    "\tdef loss(self,in_,out_):\n",
    "\t\treturn\n",
    "    \n",
    "class AtomCoder(GeometryCoder):\n",
    "\t\"\"\"\n",
    "\tAn autoencoder which tries to learn a reduced-dimensional invariant embedding\n",
    "\tof an atom by assigning a short vector which 'encodes' the atomic number \n",
    "\tof this atom, by encoding some of it's important properties. \n",
    "\t\"\"\"\n",
    "\tdef __init__(self,batch_size_=2000, MaxNAtom_=64, NOutChan_=4):\n",
    "\t\tself.feature_len = len(AtomData[0][2:])\n",
    "\t\t# Column normalize the atom data. \n",
    "\t\tself.AtomData = np.array([AData[2:] for AData in AtomData])\n",
    "\t\tself.Means = np.zeros(self.feature_len)\n",
    "\t\tself.Stds = np.zeros(self.feature_len)\n",
    "\t\tfor i in range(self.feature_len): \n",
    "\t\t\tself.Means[i] = np.mean(self.AtomData[:,i])\n",
    "\t\t\tself.AtomData[:,i] -= self.Means[i]\n",
    "\t\t\tself.Stds[i] = np.std(self.AtomData[:,i])\n",
    "\t\t\tself.AtomData[:,i] /= self.Stds[i]\n",
    "\t\tself.code_len = NOutChan_\n",
    "\t\tGeometryCoder.__init__(self, batch_size_, MaxNAtom_, NOutChan_)\n",
    "\t\tself.Prepare()\n",
    "\t\treturn\n",
    "\tdef UnNormalize(self,in_):\n",
    "\t\t\"\"\"\n",
    "\t\tArgs:\n",
    "\t\t\tinZs_: an atomic number tensor (NMol X MaxNAtom)\n",
    "\t\tReturns:\n",
    "\t\t\tSupervised Features for this batch.\n",
    "\t\t\tEach Atom gets it's vector of atom information\n",
    "\t\t\"\"\"\n",
    "\t\treturn in_*self.stds+self.means\n",
    "\tdef SupervisedFeature(self,inZs_):\n",
    "\t\t\"\"\"\n",
    "\t\tArgs:\n",
    "\t\t\tinZs_: an atomic number tensor (NMol X MaxNAtom)\n",
    "\t\tReturns:\n",
    "\t\t\tSupervised Features for this batch.\n",
    "\t\t\tEach Atom gets it's vector of atom information\n",
    "\t\t\"\"\"\n",
    "\t\tZ = tf.cast(tf.reshape(inZs_,[self.batch_size*self.MaxNAtom]),tf.int32)\n",
    "\t\tfeat_shape = tf.shape(self.AtomInformation[0])   \n",
    "\t\tmapped_z = tf.gather(self.AtomInformation,Z)\n",
    "\t\treturn mapped_z\n",
    "\t@staticmethod    \n",
    "\tdef decode(self,in_):\n",
    "\t\t\"\"\"\n",
    "\t\t(VEC=>ZXYZ)\n",
    "\t\t\"\"\"\n",
    "\t\tl1=tf.layers.dense(inputs=in_, units=64, activation=tf.nn.selu,use_bias=True)\n",
    "\t\tl2=tf.layers.dense(inputs=l1, units=64, activation=tf.nn.selu,use_bias=True)\n",
    "\t\tl3=tf.layers.dense(inputs=l2, units=self.feature_len, activation=tf.nn.selu,use_bias=True)\n",
    "\t\treturn l3\n",
    "\t@staticmethod        \n",
    "\tdef encode(self,in_):\n",
    "\t\t\"\"\"\n",
    "\t\tThis is the key operation provided\n",
    "\t\t\"\"\"\n",
    "\t\tinr = tf.reshape(in_,[self.batch_size*self.MaxNAtom,self.feature_len])\n",
    "\t\tl1=tf.layers.dense(inputs=inr, units=64, activation=tf.nn.selu,use_bias=True)\n",
    "\t\tl2=tf.layers.dense(inputs=l1, units=64, activation=tf.nn.selu,use_bias=True)\n",
    "\t\tl3=tf.layers.dense(inputs=l2, units=self.code_len, activation=tf.nn.selu,use_bias=True)        \n",
    "\t\treturn l3\n",
    "\tdef Prepare(self): \n",
    "\t\twith tf.Graph().as_default():        \n",
    "\t\t\tself.AtomInformation = tf.constant(self.AtomData)\n",
    "\t\t\tself.means = tf.constant(self.Means)\n",
    "\t\t\tself.stds = tf.constant(self.Stds)            \n",
    "\t\t\tself.Z_pl = tf.placeholder(dtype=tf.float32,shape=[self.batch_size,self.MaxNAtom])\n",
    "\t\t\tself.feat_shape = tf.shape(self.AtomInformation)[1:]\n",
    "\t\t\tself.SupervisedOutput = self.SupervisedFeature(self.Z_pl)                        \n",
    "\t\t\tself.RawSupervisedOutput = self.UnNormalize(self.SupervisedOutput)\n",
    "\t\t\tself.LatentOutput = self.encode(self.SupervisedOutput)\n",
    "\t\t\tself.output = self.decode(self.encode(self.SupervisedOutput))\n",
    "\t\t\tself.RawOutput = self.UnNormalize(self.output)\n",
    "\t\t\tself.loss = self.loss_op(self.output, self.SupervisedOutput)\n",
    "\t\t\tself.train_op = self.training(self.loss)\n",
    "\t\t\tinit = tf.global_variables_initializer()\n",
    "\t\t\tself.saver = tf.train.Saver(max_to_keep = 10000)\n",
    "\t\t\tself.sess = tf.Session(config=tf.ConfigProto(allow_soft_placement=True))\n",
    "\t\t\tself.sess.run(init)\n",
    "\t\t\tself.summary_writer =  tf.summary.FileWriter(\"./\", self.sess.graph)            \n",
    "\tdef training(self, loss):\n",
    "\t\ttf.summary.scalar(loss.op.name, loss)\n",
    "\t\toptimizer = tf.train.AdamOptimizer(self.learning_rate)\n",
    "\t\tglobal_step = tf.Variable(0, name='global_step', trainable=False)\n",
    "\t\ttrain_op = optimizer.minimize(loss, global_step=global_step)\n",
    "\t\treturn train_op                    \n",
    "\tdef loss_op(self,output_,groundtruth_):\n",
    "\t\t\"\"\"\n",
    "\t\tThe goal is to learn Z of this atom, hybridization of this atom\n",
    "\t\t Z of nearby atoms, and hybridization of nearby atoms.\n",
    "\t\t\"\"\"\n",
    "\t\tloss = tf.losses.mean_squared_error(output_,groundtruth_)\n",
    "\t\ttf.add_to_collection('losses', loss)\n",
    "\t\treturn loss\n",
    "\tdef getnextbatch(self):\n",
    "\t\t\"\"\"\n",
    "\t\tGenerate a batch of random integers, and train on them. \n",
    "\t\t\"\"\"\n",
    "\t\tbzs = np.random.randint(1,MAX_ATOMIC_NUMBER,size=(self.batch_size,self.MaxNAtom))\n",
    "\t\treturn bzs\n",
    "\tdef print_training(self, step, loss_):\n",
    "\t\tif (step%10==0):\n",
    "\t\t\tprint(\"step: \", \"%7d\"%step, \"  train loss: \", \"%.10f\"%(float(loss_)))\n",
    "\t\treturn\n",
    "\tdef train_step(self,step):\n",
    "\t\tdata = self.getnextbatch()\n",
    "\t\tfeed_dict = {self.Z_pl:data}\n",
    "\t\t_,train_loss = self.sess.run([self.train_op, self.loss], feed_dict=feed_dict)\n",
    "\t\tself.print_training(step, train_loss)\n",
    "\t\treturn\n",
    "\tdef Save(self): \n",
    "\t\treturn\n",
    "\t@SavedOnInterrupt\n",
    "\tdef train(self, mxsteps=1000):\n",
    "\t\ttest_freq = 40 \n",
    "\t\tfor step in range(1, mxsteps+1):\n",
    "\t\t\tself.train_step(step)\n",
    "#\t\t\tif step%test_freq==0 and step!=0 :\n",
    "#\t\t\t\tself.test_step()\n",
    "\t\treturn"
   ]
  },
  {
   "cell_type": "code",
   "execution_count": 8,
   "metadata": {
    "collapsed": false,
    "deletable": true,
    "editable": true
   },
   "outputs": [
    {
     "ename": "TypeError",
     "evalue": "encode() takes exactly 2 arguments (1 given)",
     "output_type": "error",
     "traceback": [
      "\u001b[0;31m---------------------------------------------------------------------------\u001b[0m",
      "\u001b[0;31mTypeError\u001b[0m                                 Traceback (most recent call last)",
      "\u001b[0;32m<ipython-input-8-c71eb756195d>\u001b[0m in \u001b[0;36m<module>\u001b[0;34m()\u001b[0m\n\u001b[0;32m----> 1\u001b[0;31m \u001b[0mac\u001b[0m \u001b[0;34m=\u001b[0m \u001b[0mAtomCoder\u001b[0m\u001b[0;34m(\u001b[0m\u001b[0;34m)\u001b[0m\u001b[0;34m\u001b[0m\u001b[0m\n\u001b[0m",
      "\u001b[0;32m<ipython-input-7-f2b92ef2fd2d>\u001b[0m in \u001b[0;36m__init__\u001b[0;34m(self, batch_size_, MaxNAtom_, NOutChan_)\u001b[0m\n\u001b[1;32m    160\u001b[0m                 \u001b[0mself\u001b[0m\u001b[0;34m.\u001b[0m\u001b[0mcode_len\u001b[0m \u001b[0;34m=\u001b[0m \u001b[0mNOutChan_\u001b[0m\u001b[0;34m\u001b[0m\u001b[0m\n\u001b[1;32m    161\u001b[0m                 \u001b[0mGeometryCoder\u001b[0m\u001b[0;34m.\u001b[0m\u001b[0m__init__\u001b[0m\u001b[0;34m(\u001b[0m\u001b[0mself\u001b[0m\u001b[0;34m,\u001b[0m \u001b[0mbatch_size_\u001b[0m\u001b[0;34m,\u001b[0m \u001b[0mMaxNAtom_\u001b[0m\u001b[0;34m,\u001b[0m \u001b[0mNOutChan_\u001b[0m\u001b[0;34m)\u001b[0m\u001b[0;34m\u001b[0m\u001b[0m\n\u001b[0;32m--> 162\u001b[0;31m                 \u001b[0mself\u001b[0m\u001b[0;34m.\u001b[0m\u001b[0mPrepare\u001b[0m\u001b[0;34m(\u001b[0m\u001b[0;34m)\u001b[0m\u001b[0;34m\u001b[0m\u001b[0m\n\u001b[0m\u001b[1;32m    163\u001b[0m                 \u001b[0;32mreturn\u001b[0m\u001b[0;34m\u001b[0m\u001b[0m\n\u001b[1;32m    164\u001b[0m         \u001b[0;32mdef\u001b[0m \u001b[0mUnNormalize\u001b[0m\u001b[0;34m(\u001b[0m\u001b[0mself\u001b[0m\u001b[0;34m,\u001b[0m\u001b[0min_\u001b[0m\u001b[0;34m)\u001b[0m\u001b[0;34m:\u001b[0m\u001b[0;34m\u001b[0m\u001b[0m\n",
      "\u001b[0;32m<ipython-input-7-f2b92ef2fd2d>\u001b[0m in \u001b[0;36mPrepare\u001b[0;34m(self)\u001b[0m\n\u001b[1;32m    211\u001b[0m                         \u001b[0mself\u001b[0m\u001b[0;34m.\u001b[0m\u001b[0mSupervisedOutput\u001b[0m \u001b[0;34m=\u001b[0m \u001b[0mself\u001b[0m\u001b[0;34m.\u001b[0m\u001b[0mSupervisedFeature\u001b[0m\u001b[0;34m(\u001b[0m\u001b[0mself\u001b[0m\u001b[0;34m.\u001b[0m\u001b[0mZ_pl\u001b[0m\u001b[0;34m)\u001b[0m\u001b[0;34m\u001b[0m\u001b[0m\n\u001b[1;32m    212\u001b[0m                         \u001b[0mself\u001b[0m\u001b[0;34m.\u001b[0m\u001b[0mRawSupervisedOutput\u001b[0m \u001b[0;34m=\u001b[0m \u001b[0mself\u001b[0m\u001b[0;34m.\u001b[0m\u001b[0mUnNormalize\u001b[0m\u001b[0;34m(\u001b[0m\u001b[0mself\u001b[0m\u001b[0;34m.\u001b[0m\u001b[0mSupervisedOutput\u001b[0m\u001b[0;34m)\u001b[0m\u001b[0;34m\u001b[0m\u001b[0m\n\u001b[0;32m--> 213\u001b[0;31m                         \u001b[0mself\u001b[0m\u001b[0;34m.\u001b[0m\u001b[0mLatentOutput\u001b[0m \u001b[0;34m=\u001b[0m \u001b[0mself\u001b[0m\u001b[0;34m.\u001b[0m\u001b[0mencode\u001b[0m\u001b[0;34m(\u001b[0m\u001b[0mself\u001b[0m\u001b[0;34m.\u001b[0m\u001b[0mSupervisedOutput\u001b[0m\u001b[0;34m)\u001b[0m\u001b[0;34m\u001b[0m\u001b[0m\n\u001b[0m\u001b[1;32m    214\u001b[0m                         \u001b[0mself\u001b[0m\u001b[0;34m.\u001b[0m\u001b[0moutput\u001b[0m \u001b[0;34m=\u001b[0m \u001b[0mself\u001b[0m\u001b[0;34m.\u001b[0m\u001b[0mdecode\u001b[0m\u001b[0;34m(\u001b[0m\u001b[0mself\u001b[0m\u001b[0;34m.\u001b[0m\u001b[0mencode\u001b[0m\u001b[0;34m(\u001b[0m\u001b[0mself\u001b[0m\u001b[0;34m.\u001b[0m\u001b[0mSupervisedOutput\u001b[0m\u001b[0;34m)\u001b[0m\u001b[0;34m)\u001b[0m\u001b[0;34m\u001b[0m\u001b[0m\n\u001b[1;32m    215\u001b[0m                         \u001b[0mself\u001b[0m\u001b[0;34m.\u001b[0m\u001b[0mRawOutput\u001b[0m \u001b[0;34m=\u001b[0m \u001b[0mself\u001b[0m\u001b[0;34m.\u001b[0m\u001b[0mUnNormalize\u001b[0m\u001b[0;34m(\u001b[0m\u001b[0mself\u001b[0m\u001b[0;34m.\u001b[0m\u001b[0moutput\u001b[0m\u001b[0;34m)\u001b[0m\u001b[0;34m\u001b[0m\u001b[0m\n",
      "\u001b[0;31mTypeError\u001b[0m: encode() takes exactly 2 arguments (1 given)"
     ]
    }
   ],
   "source": [
    "ac = AtomCoder()"
   ]
  },
  {
   "cell_type": "code",
   "execution_count": 282,
   "metadata": {
    "collapsed": false,
    "deletable": true,
    "editable": true
   },
   "outputs": [
    {
     "name": "stdout",
     "output_type": "stream",
     "text": [
      "('step: ', '     10', '  train loss: ', '0.2681091726')\n",
      "Saving\n"
     ]
    },
    {
     "ename": "AttributeError",
     "evalue": "AtomCoder instance has no attribute 'Save'",
     "output_type": "error",
     "traceback": [
      "\u001b[0;31m---------------------------------------------------------------------------\u001b[0m",
      "\u001b[0;31mAttributeError\u001b[0m                            Traceback (most recent call last)",
      "\u001b[0;32m<ipython-input-282-b600ef0dc5f6>\u001b[0m in \u001b[0;36m<module>\u001b[0;34m()\u001b[0m\n\u001b[0;32m----> 1\u001b[0;31m \u001b[0mac\u001b[0m\u001b[0;34m.\u001b[0m\u001b[0mtrain\u001b[0m\u001b[0;34m(\u001b[0m\u001b[0;34m)\u001b[0m\u001b[0;34m\u001b[0m\u001b[0m\n\u001b[0m",
      "\u001b[0;32m<ipython-input-280-71e2f9fc1313>\u001b[0m in \u001b[0;36mwrapper\u001b[0;34m(*args)\u001b[0m\n\u001b[1;32m     64\u001b[0m         \u001b[0;32mexcept\u001b[0m\u001b[0;34m:\u001b[0m\u001b[0;34m\u001b[0m\u001b[0m\n\u001b[1;32m     65\u001b[0m             \u001b[0;32mprint\u001b[0m \u001b[0;34m\"Saving\"\u001b[0m\u001b[0;34m\u001b[0m\u001b[0m\n\u001b[0;32m---> 66\u001b[0;31m             \u001b[0margs\u001b[0m\u001b[0;34m[\u001b[0m\u001b[0;36m0\u001b[0m\u001b[0;34m]\u001b[0m\u001b[0;34m.\u001b[0m\u001b[0mSave\u001b[0m\u001b[0;34m(\u001b[0m\u001b[0;34m)\u001b[0m\u001b[0;34m\u001b[0m\u001b[0m\n\u001b[0m\u001b[1;32m     67\u001b[0m     \u001b[0;32mreturn\u001b[0m \u001b[0mwrapper\u001b[0m\u001b[0;34m\u001b[0m\u001b[0m\n\u001b[1;32m     68\u001b[0m \u001b[0;34m\u001b[0m\u001b[0m\n",
      "\u001b[0;31mAttributeError\u001b[0m: AtomCoder instance has no attribute 'Save'"
     ]
    }
   ],
   "source": [
    "ac.train()"
   ]
  },
  {
   "cell_type": "code",
   "execution_count": 241,
   "metadata": {
    "collapsed": false,
    "deletable": true,
    "editable": true
   },
   "outputs": [
    {
     "name": "stdout",
     "output_type": "stream",
     "text": [
      "[  1.50000000e+01   3.09737620e+01   2.00000000e+00   3.00000000e+00\n",
      "   0.00000000e+00   2.25300000e+00   9.80000000e+01   1.01200000e+03\n",
      "   7.46607000e-01   2.49300000e+01]\n",
      "[-0.4375113  -0.16051748  0.89387611  0.51345566]\n",
      "[  1.49161352e+01   3.12130513e+01   2.00709227e+00   2.98867255e+00\n",
      "  -1.10713727e-01   2.27325942e+00   9.75818549e+01   1.00715676e+03\n",
      "   7.37631491e-01   2.42058713e+01]\n"
     ]
    }
   ],
   "source": [
    "data = np.ones((2000,64))*15\n",
    "feed_dict = {ac.Z_pl:data}\n",
    "sout,lout,rout= ac.sess.run([ac.RawSupervisedOutput,ac.LatentOutput,ac.RawOutput], feed_dict=feed_dict)\n",
    "print sout[0]\n",
    "print lout[0]\n",
    "print rout[0]"
   ]
  },
  {
   "cell_type": "code",
   "execution_count": 242,
   "metadata": {
    "collapsed": false,
    "deletable": true,
    "editable": true
   },
   "outputs": [
    {
     "name": "stdout",
     "output_type": "stream",
     "text": [
      "[  7.00000000e+00   1.40067000e+01   2.00000000e+00   3.00000000e+00\n",
      "   0.00000000e+00   3.06600000e+00   5.60000000e+01   1.40200000e+03\n",
      "  -7.25000000e-04   7.26000000e+00]\n",
      "[-1.17442415 -0.87456945  0.66484548  1.05204274]\n",
      "[  6.61625602e+00   1.50926358e+01   1.98428700e+00   2.98585645e+00\n",
      "   1.37263238e-01   3.07105432e+00   5.54527340e+01   1.40487806e+03\n",
      "   3.79113037e-03   9.69090470e+00]\n"
     ]
    }
   ],
   "source": [
    "data = np.ones((2000,64))*7\n",
    "feed_dict = {ac.Z_pl:data}\n",
    "sout,lout,rout= ac.sess.run([ac.RawSupervisedOutput,ac.LatentOutput,ac.RawOutput], feed_dict=feed_dict)\n",
    "print sout[0]\n",
    "print lout[0]\n",
    "print rout[0]"
   ]
  },
  {
   "cell_type": "code",
   "execution_count": 243,
   "metadata": {
    "collapsed": false,
    "deletable": true,
    "editable": true
   },
   "outputs": [
    {
     "name": "stdout",
     "output_type": "stream",
     "text": [
      "[    6.           12.0107        2.            2.            0.            2.544\n",
      "    67.         1087.            1.2621226    11.26     ]\n",
      "[-0.7220787  -0.88210392  0.9805483   0.37340339]\n",
      "[  5.40528032e+00   9.92239854e+00   2.01354618e+00   2.02636280e+00\n",
      "   6.87347330e-02   2.55305606e+00   6.68083807e+01   1.07813927e+03\n",
      "   1.27348532e+00   1.05700943e+01]\n"
     ]
    }
   ],
   "source": [
    "data = np.ones((2000,64))*6\n",
    "feed_dict = {ac.Z_pl:data}\n",
    "sout,lout,rout= ac.sess.run([ac.RawSupervisedOutput,ac.LatentOutput,ac.RawOutput], feed_dict=feed_dict)\n",
    "print sout[0]\n",
    "print lout[0]\n",
    "print rout[0]"
   ]
  },
  {
   "cell_type": "code",
   "execution_count": 244,
   "metadata": {
    "collapsed": false,
    "deletable": true,
    "editable": true
   },
   "outputs": [
    {
     "name": "stdout",
     "output_type": "stream",
     "text": [
      "[  14.          28.0855       2.           2.           0.           1.916\n",
      "  111.         787.           1.3895212   37.31     ]\n",
      "[ 0.24921662 -0.05583456  1.09858863 -0.16241428]\n",
      "[  1.39468219e+01   2.90650446e+01   1.99247307e+00   1.90736280e+00\n",
      "  -1.53681825e-01   1.94562230e+00   1.10918282e+02   7.87065536e+02\n",
      "   1.38869214e+00   3.72651029e+01]\n"
     ]
    }
   ],
   "source": [
    "data = np.ones((2000,64))*14\n",
    "feed_dict = {ac.Z_pl:data}\n",
    "sout,lout,rout= ac.sess.run([ac.RawSupervisedOutput,ac.LatentOutput,ac.RawOutput], feed_dict=feed_dict)\n",
    "print sout[0]\n",
    "print lout[0]\n",
    "print rout[0]"
   ]
  },
  {
   "cell_type": "code",
   "execution_count": 237,
   "metadata": {
    "collapsed": false,
    "deletable": true,
    "editable": true
   },
   "outputs": [],
   "source": [
    "tmp = np.zeros((53,ac.out_chan))\n",
    "for I in range(53): \n",
    "    data = np.ones((2000,64))*I\n",
    "    feed_dict = {ac.Z_pl:data}\n",
    "    lout = ac.sess.run([ac.LatentOutput], feed_dict=feed_dict)\n",
    "    tmp[I] = lout[0][0]"
   ]
  },
  {
   "cell_type": "code",
   "execution_count": 235,
   "metadata": {
    "collapsed": false,
    "deletable": true,
    "editable": true
   },
   "outputs": [],
   "source": [
    "%matplotlib inline  \n",
    "import matplotlib\n",
    "import numpy as np\n",
    "import random \n",
    "import matplotlib.pyplot as plt"
   ]
  },
  {
   "cell_type": "code",
   "execution_count": 240,
   "metadata": {
    "collapsed": false,
    "deletable": true,
    "editable": true
   },
   "outputs": [
    {
     "data": {
      "text/plain": [
       "<matplotlib.image.AxesImage at 0x123289410>"
      ]
     },
     "execution_count": 240,
     "metadata": {},
     "output_type": "execute_result"
    },
    {
     "data": {
      "image/png": "[encoded data removed]",
      "text/plain": [
       "<matplotlib.figure.Figure at 0x1214a1b90>"
      ]
     },
     "metadata": {},
     "output_type": "display_data"
    }
   ],
   "source": [
    "plt.figure(figsize = (100,20))\n",
    "plt.imshow(tmp)"
   ]
  },
  {
   "cell_type": "code",
   "execution_count": 1,
   "metadata": {
    "collapsed": false,
    "deletable": true,
    "editable": true
   },
   "outputs": [
    {
     "ename": "NameError",
     "evalue": "name 'tmp' is not defined",
     "output_type": "error",
     "traceback": [
      "\u001b[0;31m---------------------------------------------------------------------------\u001b[0m",
      "\u001b[0;31mNameError\u001b[0m                                 Traceback (most recent call last)",
      "\u001b[0;32m<ipython-input-1-1befcb9b28e2>\u001b[0m in \u001b[0;36m<module>\u001b[0;34m()\u001b[0m\n\u001b[0;32m----> 1\u001b[0;31m \u001b[0mtmp\u001b[0m\u001b[0;34m\u001b[0m\u001b[0m\n\u001b[0m",
      "\u001b[0;31mNameError\u001b[0m: name 'tmp' is not defined"
     ]
    }
   ],
   "source": [
    "tmp"
   ]
  },
  {
   "cell_type": "code",
   "execution_count": null,
   "metadata": {
    "collapsed": true
   },
   "outputs": [],
   "source": []
  }
 ],
 "metadata": {
  "kernelspec": {
   "display_name": "Python 2",
   "language": "python",
   "name": "python2"
  },
  "language_info": {
   "codemirror_mode": {
    "name": "ipython",
    "version": 2
   },
   "file_extension": ".py",
   "mimetype": "text/x-python",
   "name": "python",
   "nbconvert_exporter": "python",
   "pygments_lexer": "ipython2",
   "version": "2.7.10"
  }
 },
 "nbformat": 4,
 "nbformat_minor": 2
}
